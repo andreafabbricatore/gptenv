{
 "cells": [
  {
   "cell_type": "code",
   "execution_count": 1,
   "metadata": {},
   "outputs": [],
   "source": [
    "import requests\n",
    "from bs4 import BeautifulSoup"
   ]
  },
  {
   "cell_type": "code",
   "execution_count": 2,
   "metadata": {},
   "outputs": [],
   "source": [
    "topic = \"econ\"\n",
    "i = \"1\"\n",
    "base_url = f\"https://arxiv.org/list/{topic}/220{i}?show=1000\""
   ]
  },
  {
   "cell_type": "code",
   "execution_count": 5,
   "metadata": {},
   "outputs": [],
   "source": [
    "page = requests.get(base_url)\n",
    "\n",
    "soup = BeautifulSoup(page.content, \"html.parser\")"
   ]
  },
  {
   "cell_type": "code",
   "execution_count": 13,
   "metadata": {},
   "outputs": [],
   "source": [
    "papers = soup.find_all(title=\"Abstract\")"
   ]
  },
  {
   "cell_type": "code",
   "execution_count": 22,
   "metadata": {},
   "outputs": [],
   "source": [
    "suffixes = []\n",
    "for i in papers:\n",
    "    suffixes.append(i.attrs['href'])"
   ]
  },
  {
   "cell_type": "code",
   "execution_count": 23,
   "metadata": {},
   "outputs": [
    {
     "data": {
      "text/plain": [
       "['/abs/2201.00013',\n",
       " '/abs/2201.00161',\n",
       " '/abs/2201.00274',\n",
       " '/abs/2201.00345',\n",
       " '/abs/2201.00496',\n",
       " '/abs/2201.00578',\n",
       " '/abs/2201.00776',\n",
       " '/abs/2201.00923',\n",
       " '/abs/2201.01010',\n",
       " '/abs/2201.01125',\n",
       " '/abs/2201.01149',\n",
       " '/abs/2201.01194',\n",
       " '/abs/2201.01321',\n",
       " '/abs/2201.01356',\n",
       " '/abs/2201.01398',\n",
       " '/abs/2201.01758',\n",
       " '/abs/2201.01813',\n",
       " '/abs/2201.01827',\n",
       " '/abs/2201.02098',\n",
       " '/abs/2201.02122',\n",
       " '/abs/2201.02292',\n",
       " '/abs/2201.02532',\n",
       " '/abs/2201.02760',\n",
       " '/abs/2201.02793',\n",
       " '/abs/2201.02804',\n",
       " '/abs/2201.02916',\n",
       " '/abs/2201.02919',\n",
       " '/abs/2201.03286',\n",
       " '/abs/2201.03483',\n",
       " '/abs/2201.03519',\n",
       " '/abs/2201.03784',\n",
       " '/abs/2201.04200',\n",
       " '/abs/2201.04811',\n",
       " '/abs/2201.04880',\n",
       " '/abs/2201.05139',\n",
       " '/abs/2201.05430',\n",
       " '/abs/2201.05556',\n",
       " '/abs/2201.05574',\n",
       " '/abs/2201.05672',\n",
       " '/abs/2201.06006',\n",
       " '/abs/2201.06020',\n",
       " '/abs/2201.06072',\n",
       " '/abs/2201.06140',\n",
       " '/abs/2201.06197',\n",
       " '/abs/2201.06373',\n",
       " '/abs/2201.06605',\n",
       " '/abs/2201.06647',\n",
       " '/abs/2201.06694',\n",
       " '/abs/2201.06898',\n",
       " '/abs/2201.07055',\n",
       " '/abs/2201.07069',\n",
       " '/abs/2201.07072',\n",
       " '/abs/2201.07159',\n",
       " '/abs/2201.07168',\n",
       " '/abs/2201.07181',\n",
       " '/abs/2201.07303',\n",
       " '/abs/2201.07319',\n",
       " '/abs/2201.07903',\n",
       " '/abs/2201.08366',\n",
       " '/abs/2201.08444',\n",
       " '/abs/2201.08584',\n",
       " '/abs/2201.08826',\n",
       " '/abs/2201.08995',\n",
       " '/abs/2201.09064',\n",
       " '/abs/2201.09073',\n",
       " '/abs/2201.09125',\n",
       " '/abs/2201.09160',\n",
       " '/abs/2201.09182',\n",
       " '/abs/2201.09221',\n",
       " '/abs/2201.09270',\n",
       " '/abs/2201.09806',\n",
       " '/abs/2201.09876',\n",
       " '/abs/2201.09878',\n",
       " '/abs/2201.09927',\n",
       " '/abs/2201.10141',\n",
       " '/abs/2201.10418',\n",
       " '/abs/2201.10524',\n",
       " '/abs/2201.10673',\n",
       " '/abs/2201.10726',\n",
       " '/abs/2201.10808',\n",
       " '/abs/2201.10961',\n",
       " '/abs/2201.11047',\n",
       " '/abs/2201.11051',\n",
       " '/abs/2201.11156',\n",
       " '/abs/2201.11214',\n",
       " '/abs/2201.11304',\n",
       " '/abs/2201.11482',\n",
       " '/abs/2201.11787',\n",
       " '/abs/2201.12100',\n",
       " '/abs/2201.12618',\n",
       " '/abs/2201.12692',\n",
       " '/abs/2201.12752',\n",
       " '/abs/2201.12893',\n",
       " '/abs/2201.13000',\n",
       " '/abs/2201.13004',\n",
       " '/abs/2201.13235',\n",
       " '/abs/2201.13325',\n",
       " '/abs/2201.13380',\n",
       " '/abs/2201.13416',\n",
       " '/abs/2201.00223',\n",
       " '/abs/2201.00426',\n",
       " '/abs/2201.00486',\n",
       " '/abs/2201.01094',\n",
       " '/abs/2201.01132',\n",
       " '/abs/2201.01160',\n",
       " '/abs/2201.01163',\n",
       " '/abs/2201.01182',\n",
       " '/abs/2201.01770',\n",
       " '/abs/2201.02272',\n",
       " '/abs/2201.02857',\n",
       " '/abs/2201.03092',\n",
       " '/abs/2201.04266',\n",
       " '/abs/2201.04469',\n",
       " '/abs/2201.05709',\n",
       " '/abs/2201.05893',\n",
       " '/abs/2201.05959',\n",
       " '/abs/2201.06169',\n",
       " '/abs/2201.06792',\n",
       " '/abs/2201.07026',\n",
       " '/abs/2201.07170',\n",
       " '/abs/2201.07666',\n",
       " '/abs/2201.07880',\n",
       " '/abs/2201.07975',\n",
       " '/abs/2201.08326',\n",
       " '/abs/2201.08837',\n",
       " '/abs/2201.09108',\n",
       " '/abs/2201.09573',\n",
       " '/abs/2201.09691',\n",
       " '/abs/2201.10115',\n",
       " '/abs/2201.10127',\n",
       " '/abs/2201.10173',\n",
       " '/abs/2201.10351',\n",
       " '/abs/2201.10743',\n",
       " '/abs/2201.10826',\n",
       " '/abs/2201.10992',\n",
       " '/abs/2201.11341',\n",
       " '/abs/2201.11441',\n",
       " '/abs/2201.11930',\n",
       " '/abs/2201.12402',\n",
       " '/abs/2201.12619',\n",
       " '/abs/2201.12696',\n",
       " '/abs/2201.12936',\n",
       " '/abs/2201.13267']"
      ]
     },
     "execution_count": 23,
     "metadata": {},
     "output_type": "execute_result"
    }
   ],
   "source": [
    "suffixes"
   ]
  },
  {
   "cell_type": "code",
   "execution_count": 44,
   "metadata": {},
   "outputs": [],
   "source": [
    "title_data = []\n",
    "abstract_data = []\n",
    "for suff in suffixes:\n",
    "    page = requests.get(f\"https://arxiv.org{suff}\")\n",
    "    soup = BeautifulSoup(page.content, \"html.parser\")\n",
    "    titles = soup.find_all(\"h1\", class_=\"title mathjax\")\n",
    "    abstracts = soup.find_all(\"blockquote\", class_=\"abstract mathjax\")\n",
    "    title_data.append(i.text[6:] for i in titles)\n",
    "    abstract_data.append(i.text[12:-6] for i in abstracts)"
   ]
  },
  {
   "cell_type": "code",
   "execution_count": 45,
   "metadata": {},
   "outputs": [
    {
     "data": {
      "text/plain": [
       "['Micro-level Reserving for General Insurance Claims using a Long Short-Term Memory Network']"
      ]
     },
     "execution_count": 45,
     "metadata": {},
     "output_type": "execute_result"
    }
   ],
   "source": [
    "title_data"
   ]
  },
  {
   "cell_type": "code",
   "execution_count": null,
   "metadata": {},
   "outputs": [],
   "source": []
  }
 ],
 "metadata": {
  "kernelspec": {
   "display_name": "Python 3",
   "language": "python",
   "name": "python3"
  },
  "language_info": {
   "codemirror_mode": {
    "name": "ipython",
    "version": 3
   },
   "file_extension": ".py",
   "mimetype": "text/x-python",
   "name": "python",
   "nbconvert_exporter": "python",
   "pygments_lexer": "ipython3",
   "version": "3.10.0"
  },
  "orig_nbformat": 4
 },
 "nbformat": 4,
 "nbformat_minor": 2
}
